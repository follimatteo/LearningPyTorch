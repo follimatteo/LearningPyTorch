{
  "nbformat": 4,
  "nbformat_minor": 0,
  "metadata": {
    "colab": {
      "name": "mnist.ipynb",
      "provenance": [],
      "authorship_tag": "ABX9TyNA0k3B9vxdZtEiVihqTkS2",
      "include_colab_link": true
    },
    "kernelspec": {
      "name": "python3",
      "display_name": "Python 3"
    },
    "language_info": {
      "name": "python"
    }
  },
  "cells": [
    {
      "cell_type": "markdown",
      "metadata": {
        "id": "view-in-github",
        "colab_type": "text"
      },
      "source": [
        "<a href=\"https://colab.research.google.com/github/follimatteo/LearningPyTorch/blob/main/mnist.ipynb\" target=\"_parent\"><img src=\"https://colab.research.google.com/assets/colab-badge.svg\" alt=\"Open In Colab\"/></a>"
      ]
    },
    {
      "cell_type": "code",
      "metadata": {
        "id": "kSvcHwB94R8R"
      },
      "source": [
        "import torch\n",
        "import torchvision\n",
        "from torchvision.transforms import transforms\n",
        "\n",
        "import matplotlib.pyplot as plt\n",
        "import torch.nn.functional as F"
      ],
      "execution_count": 188,
      "outputs": []
    },
    {
      "cell_type": "code",
      "metadata": {
        "colab": {
          "base_uri": "https://localhost:8080/"
        },
        "id": "Q92ZiVdx6WGG",
        "outputId": "5d9af0dd-4090-4a93-c090-ceffb8578ccd"
      },
      "source": [
        "torch.cuda.is_available()"
      ],
      "execution_count": 19,
      "outputs": [
        {
          "output_type": "execute_result",
          "data": {
            "text/plain": [
              "False"
            ]
          },
          "metadata": {},
          "execution_count": 19
        }
      ]
    },
    {
      "cell_type": "code",
      "metadata": {
        "colab": {
          "base_uri": "https://localhost:8080/"
        },
        "id": "HR_6Gt6d4V9k",
        "outputId": "f6b98540-95a5-425c-a255-60d4d4b4a1c2"
      },
      "source": [
        "data_train = torchvision.datasets.MNIST(\"/data/\", train = True, download=True, transform=transforms.ToTensor())\n",
        "data_test = torchvision.datasets.MNIST(\"/data/\", train = False, download=True, transform=transforms.ToTensor())\n",
        "\n",
        "classes = data_train.classes\n",
        "data_train, classes"
      ],
      "execution_count": 30,
      "outputs": [
        {
          "output_type": "execute_result",
          "data": {
            "text/plain": [
              "(Dataset MNIST\n",
              "     Number of datapoints: 60000\n",
              "     Root location: /data/\n",
              "     Split: Train\n",
              "     StandardTransform\n",
              " Transform: ToTensor(),\n",
              " ['0 - zero',\n",
              "  '1 - one',\n",
              "  '2 - two',\n",
              "  '3 - three',\n",
              "  '4 - four',\n",
              "  '5 - five',\n",
              "  '6 - six',\n",
              "  '7 - seven',\n",
              "  '8 - eight',\n",
              "  '9 - nine'])"
            ]
          },
          "metadata": {},
          "execution_count": 30
        }
      ]
    },
    {
      "cell_type": "code",
      "metadata": {
        "colab": {
          "base_uri": "https://localhost:8080/",
          "height": 435
        },
        "id": "H2-gYUxl4Zt7",
        "outputId": "cb23557e-8ec0-494b-c558-bcf27cdf1be9"
      },
      "source": [
        "# Dataset exploration \n",
        "print(type(data_train[0]))\n",
        "print(type(data_train[0][0]))\n",
        "print(data_train[0][0].shape)\n",
        "print(data_train[0][0][0][0])\n",
        "print(\"\\n\")\n",
        "print(\"\\n\")\n",
        "print(\"Label: \", data_train[0][1])\n",
        "plt.imshow(data_train[0][0].view(28,28));"
      ],
      "execution_count": 75,
      "outputs": [
        {
          "output_type": "stream",
          "name": "stdout",
          "text": [
            "<class 'tuple'>\n",
            "<class 'torch.Tensor'>\n",
            "torch.Size([1, 28, 28])\n",
            "tensor([0., 0., 0., 0., 0., 0., 0., 0., 0., 0., 0., 0., 0., 0., 0., 0., 0., 0., 0., 0., 0., 0., 0., 0.,\n",
            "        0., 0., 0., 0.])\n",
            "\n",
            "\n",
            "\n",
            "\n",
            "Label:  5\n"
          ]
        },
        {
          "output_type": "display_data",
          "data": {
            "image/png": "[encoded data removed]",
            "text/plain": [
              "<Figure size 432x288 with 1 Axes>"
            ]
          },
          "metadata": {
            "needs_background": "light"
          }
        }
      ]
    },
    {
      "cell_type": "code",
      "metadata": {
        "colab": {
          "base_uri": "https://localhost:8080/"
        },
        "id": "jWQ1f3KX1wL_",
        "outputId": "e660dcc0-17f7-4f23-c7e6-ea2b58e7447f"
      },
      "source": [
        "def tensor2matrix(dset, limit=-1):\n",
        "  x = dset.data[:limit].clone().detach().float().div_(255)\n",
        "  x = x.reshape((x.shape[0], -1))\n",
        "  y = dset.targets[:limit].clone().detach()\n",
        "  return x, y\n",
        "\n",
        "x_train, y_train = tensor2matrix(data_train, limit = 10000)\n",
        "x_valid, y_valid = tensor2matrix(data_test, limit = 1000 )\n",
        "print(x_train.shape)\n",
        "print(y_train.shape)\n",
        "print(x_valid.shape)\n",
        "print(y_valid.shape)"
      ],
      "execution_count": 250,
      "outputs": [
        {
          "output_type": "stream",
          "name": "stdout",
          "text": [
            "torch.Size([10000, 784])\n",
            "torch.Size([10000])\n",
            "torch.Size([1000, 784])\n",
            "torch.Size([1000])\n"
          ]
        }
      ]
    },
    {
      "cell_type": "code",
      "metadata": {
        "id": "Qe0R01I2KutF"
      },
      "source": [
        "### Linear classifier\n",
        "class Lin ():\n",
        "  def __init__(self, shape, lr, loss):\n",
        "    self.device=torch.device('cuda' if torch.cuda.is_available() else 'cpu')\n",
        "    self.W = torch.rand(shape, requires_grad=True)\n",
        "    self.b = torch.rand(shape[-1], requires_grad=True)\n",
        "    \n",
        "    self.lr = lr\n",
        "    self.loss = loss\n",
        "    #print(\"W: \",self.W.shape)\n",
        "    #print(\"b: \",self.b.shape)\n",
        "\n",
        "\n",
        "  def __call__(self, x):\n",
        "    return torch.matmul(x, self.W) + self.b\n",
        "\n",
        "  def train(self, x, y, x_valid, y_valid, epochs, step = 0):\n",
        "\n",
        "    for e in range(epochs+1):\n",
        "      \n",
        "      scores = self.__call__(x)\n",
        "      l = self.loss(scores, y)\n",
        "      l.backward()\n",
        "      \n",
        "      acc = accuracy(scores, y)\n",
        "      with torch.no_grad():\n",
        "        # compute validation loss and metrics\n",
        "        valid_scores = self.__call__(x_valid)\n",
        "        valid_loss = F.cross_entropy(valid_scores, y_valid).item()\n",
        "        valid_acc = accuracy(valid_scores, y_valid).item()\n",
        "\n",
        "        self.W -= self.lr * self.W.grad\n",
        "        self.b -= self.lr * self.b.grad\n",
        "\n",
        "        self.W.grad.zero_()\n",
        "        self.b.grad.zero_()\n",
        "      \n",
        "      if e % 100 == 0:\n",
        "        print(f\"Epoch {e}: train loss {l:.3f} - train acc {acc:.3f} - valid loss {valid_loss:.3f} - valid acc {valid_acc:.3f}\")\n",
        "\n",
        "      \n"
      ],
      "execution_count": 263,
      "outputs": []
    },
    {
      "cell_type": "code",
      "metadata": {
        "id": "e6E2ii4-ecFP"
      },
      "source": [
        "def accuracy(scores, y):\n",
        "  y_hat = torch.argmax(scores, -1)\n",
        "  correct = (y_hat==y).sum()\n",
        "  return correct.true_divide(y.shape[0])"
      ],
      "execution_count": 236,
      "outputs": []
    },
    {
      "cell_type": "code",
      "metadata": {
        "colab": {
          "base_uri": "https://localhost:8080/"
        },
        "id": "xGCMSUgzK2sS",
        "outputId": "d74fec7d-6efd-4934-d978-38003c522bdb"
      },
      "source": [
        "### random classifier\n",
        "lin = Lin((28*28,10), 0, None)\n",
        "out = lin(x_train)\n",
        "acc = accuracy(out, y_train)\n",
        "print(acc)"
      ],
      "execution_count": 230,
      "outputs": [
        {
          "output_type": "stream",
          "name": "stdout",
          "text": [
            "tensor(0.0800)\n"
          ]
        }
      ]
    },
    {
      "cell_type": "code",
      "metadata": {
        "colab": {
          "base_uri": "https://localhost:8080/"
        },
        "id": "1Rj1j7lhMtYQ",
        "outputId": "907bd1b6-154d-4e04-df4d-e1430dd6104f"
      },
      "source": [
        "### TRAIN \n",
        "lin = Lin((28*28,10), 0.1, F.cross_entropy)\n",
        "lin.train(x_train, y_train, x_valid, y_valid, 2000, 0)"
      ],
      "execution_count": 262,
      "outputs": [
        {
          "output_type": "stream",
          "name": "stdout",
          "text": [
            "Epoch 0: train loss 4.710 - train acc 0.085 - valid loss 4.139 - valid acc 0.088\n",
            "Epoch 100: train loss 1.434 - train acc 0.659 - valid loss 1.361 - valid acc 0.648\n",
            "Epoch 200: train loss 1.003 - train acc 0.748 - valid loss 1.133 - valid acc 0.699\n",
            "Epoch 300: train loss 0.977 - train acc 0.804 - valid loss 1.002 - valid acc 0.787\n",
            "Epoch 400: train loss 0.911 - train acc 0.844 - valid loss 1.021 - valid acc 0.806\n",
            "Epoch 500: train loss 1.113 - train acc 0.832 - valid loss 1.062 - valid acc 0.820\n",
            "Epoch 600: train loss 1.070 - train acc 0.855 - valid loss 1.198 - valid acc 0.836\n",
            "Epoch 700: train loss 1.017 - train acc 0.873 - valid loss 1.189 - valid acc 0.846\n",
            "Epoch 800: train loss 1.195 - train acc 0.865 - valid loss 1.426 - valid acc 0.837\n",
            "Epoch 900: train loss 1.193 - train acc 0.862 - valid loss 1.432 - valid acc 0.837\n",
            "Epoch 1000: train loss 1.211 - train acc 0.876 - valid loss 1.592 - valid acc 0.839\n",
            "Epoch 1100: train loss 1.174 - train acc 0.893 - valid loss 1.615 - valid acc 0.859\n",
            "Epoch 1200: train loss 1.311 - train acc 0.886 - valid loss 1.612 - valid acc 0.857\n",
            "Epoch 1300: train loss 1.373 - train acc 0.886 - valid loss 1.716 - valid acc 0.854\n",
            "Epoch 1400: train loss 1.106 - train acc 0.904 - valid loss 1.479 - valid acc 0.879\n",
            "Epoch 1500: train loss 1.507 - train acc 0.874 - valid loss 2.247 - valid acc 0.820\n",
            "Epoch 1600: train loss 1.261 - train acc 0.893 - valid loss 1.961 - valid acc 0.853\n",
            "Epoch 1700: train loss 1.174 - train acc 0.909 - valid loss 1.882 - valid acc 0.872\n",
            "Epoch 1800: train loss 1.400 - train acc 0.900 - valid loss 2.102 - valid acc 0.867\n",
            "Epoch 1900: train loss 1.571 - train acc 0.893 - valid loss 2.253 - valid acc 0.861\n",
            "Epoch 2000: train loss 1.327 - train acc 0.907 - valid loss 1.956 - valid acc 0.869\n"
          ]
        }
      ]
    },
    {
      "cell_type": "code",
      "metadata": {
        "id": "M7StTA6YkkEC"
      },
      "source": [
        "### Linear classifier, ADDING OPTIMIZERS\n",
        "class Lin ():\n",
        "  def __init__(self, shape, lr, loss, opti='default'):\n",
        "    self.device=torch.device('cuda' if torch.cuda.is_available() else 'cpu')\n",
        "    self.W = torch.rand(shape, requires_grad=True)\n",
        "    self.b = torch.rand(shape[-1], requires_grad=True)\n",
        "    \n",
        "    self.loss = loss\n",
        "    self.opti = torch.optim.Adam([self.W, self.b]) if opti == 'default' else opti([self.W,self.b])\n",
        "    #print(\"W: \",self.W.shape)\n",
        "    #print(\"b: \",self.b.shape)\n",
        "\n",
        "\n",
        "  def __call__(self, x):\n",
        "    return torch.matmul(x, self.W) + self.b\n",
        "\n",
        "  def train(self, x, y, x_valid, y_valid, epochs, step = 0):\n",
        "    losses = []\n",
        "    accuracies = []\n",
        "\n",
        "    for e in range(epochs+1):\n",
        "      \n",
        "      scores = self.__call__(x)\n",
        "      l = self.loss(scores, y)\n",
        "      l.backward()\n",
        "      self.opti.step()\n",
        "\n",
        "      acc = accuracy(scores, y)\n",
        "      losses.append(l)\n",
        "      accuracies.append(acc)\n",
        "      with torch.no_grad():\n",
        "        # compute validation loss and metrics\n",
        "        valid_scores = self.__call__(x_valid)\n",
        "        valid_loss = F.cross_entropy(valid_scores, y_valid).item()\n",
        "        valid_acc = accuracy(valid_scores, y_valid).item()\n",
        "\n",
        "      if e % 100 == 0:\n",
        "        print(f\"Epoch {e}: train loss {l:.3f} - train acc {acc:.3f} - valid loss {valid_loss:.3f} - valid acc {valid_acc:.3f}\")\n",
        "      \n",
        "    plt.plot(losses)\n",
        "    plt.plot(accuracies)\n",
        "    plt.show()"
      ],
      "execution_count": 271,
      "outputs": []
    },
    {
      "cell_type": "code",
      "metadata": {
        "colab": {
          "base_uri": "https://localhost:8080/",
          "height": 316
        },
        "id": "wZ8JfIGIAwou",
        "outputId": "293ea252-bbe1-478e-941f-00c9af57ec84"
      },
      "source": [
        "### TRAIN \n",
        "lin = Lin((28*28,10), 0.1, F.cross_entropy)\n",
        "lin.train(x_train, y_train, x_valid, y_valid, 200, 0)"
      ],
      "execution_count": 272,
      "outputs": [
        {
          "output_type": "stream",
          "name": "stdout",
          "text": [
            "Epoch 0: train loss 4.201 - train acc 0.111 - valid loss 4.001 - valid acc 0.087\n",
            "Epoch 100: train loss 0.932 - train acc 0.695 - valid loss 1.079 - valid acc 0.662\n",
            "Epoch 200: train loss 0.662 - train acc 0.825 - valid loss 0.845 - valid acc 0.785\n"
          ]
        },
        {
          "output_type": "display_data",
          "data": {
            "image/png": "[encoded data removed]",
            "text/plain": [
              "<Figure size 432x288 with 1 Axes>"
            ]
          },
          "metadata": {
            "needs_background": "light"
          }
        }
      ]
    }
  ]
}