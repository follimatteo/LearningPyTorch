{
  "nbformat": 4,
  "nbformat_minor": 0,
  "metadata": {
    "colab": {
      "name": "mnist.ipynb",
      "provenance": [],
      "authorship_tag": "ABX9TyN6sEMgcGuCSPzUqML2Ti4b",
      "include_colab_link": true
    },
    "kernelspec": {
      "name": "python3",
      "display_name": "Python 3"
    },
    "language_info": {
      "name": "python"
    },
    "accelerator": "GPU",
    "widgets": {
      "application/vnd.jupyter.widget-state+json": {
        "aac72bda3fea4b589b3a38f621389840": {
          "model_module": "@jupyter-widgets/controls",
          "model_name": "HBoxModel",
          "model_module_version": "1.5.0",
          "state": {
            "_view_name": "HBoxView",
            "_dom_classes": [],
            "_model_name": "HBoxModel",
            "_view_module": "@jupyter-widgets/controls",
            "_model_module_version": "1.5.0",
            "_view_count": null,
            "_view_module_version": "1.5.0",
            "box_style": "",
            "layout": "IPY_MODEL_81a077c5be6940e3aacbe70ab99e22e8",
            "_model_module": "@jupyter-widgets/controls",
            "children": [
              "IPY_MODEL_89eccc1dc82d433088e326b8c0f6a634",
              "IPY_MODEL_f9bcdb0c964845e3b7a8884392b88f2b",
              "IPY_MODEL_2063486874884352b752b9731b545ccb"
            ]
          }
        },
        "81a077c5be6940e3aacbe70ab99e22e8": {
          "model_module": "@jupyter-widgets/base",
          "model_name": "LayoutModel",
          "model_module_version": "1.2.0",
          "state": {
            "_view_name": "LayoutView",
            "grid_template_rows": null,
            "right": null,
            "justify_content": null,
            "_view_module": "@jupyter-widgets/base",
            "overflow": null,
            "_model_module_version": "1.2.0",
            "_view_count": null,
            "flex_flow": null,
            "width": null,
            "min_width": null,
            "border": null,
            "align_items": null,
            "bottom": null,
            "_model_module": "@jupyter-widgets/base",
            "top": null,
            "grid_column": null,
            "overflow_y": null,
            "overflow_x": null,
            "grid_auto_flow": null,
            "grid_area": null,
            "grid_template_columns": null,
            "flex": null,
            "_model_name": "LayoutModel",
            "justify_items": null,
            "grid_row": null,
            "max_height": null,
            "align_content": null,
            "visibility": null,
            "align_self": null,
            "height": null,
            "min_height": null,
            "padding": null,
            "grid_auto_rows": null,
            "grid_gap": null,
            "max_width": null,
            "order": null,
            "_view_module_version": "1.2.0",
            "grid_template_areas": null,
            "object_position": null,
            "object_fit": null,
            "grid_auto_columns": null,
            "margin": null,
            "display": null,
            "left": null
          }
        },
        "89eccc1dc82d433088e326b8c0f6a634": {
          "model_module": "@jupyter-widgets/controls",
          "model_name": "HTMLModel",
          "model_module_version": "1.5.0",
          "state": {
            "_view_name": "HTMLView",
            "style": "IPY_MODEL_eca30ebe56aa448083374cff945ba638",
            "_dom_classes": [],
            "description": "",
            "_model_name": "HTMLModel",
            "placeholder": "​",
            "_view_module": "@jupyter-widgets/controls",
            "_model_module_version": "1.5.0",
            "value": "",
            "_view_count": null,
            "_view_module_version": "1.5.0",
            "description_tooltip": null,
            "_model_module": "@jupyter-widgets/controls",
            "layout": "IPY_MODEL_0a6cff83bea54e0ebfb02154edf53984"
          }
        },
        "f9bcdb0c964845e3b7a8884392b88f2b": {
          "model_module": "@jupyter-widgets/controls",
          "model_name": "FloatProgressModel",
          "model_module_version": "1.5.0",
          "state": {
            "_view_name": "ProgressView",
            "style": "IPY_MODEL_03c8d7eb734e41259ba5a6d53e8157d2",
            "_dom_classes": [],
            "description": "",
            "_model_name": "FloatProgressModel",
            "bar_style": "success",
            "max": 9912422,
            "_view_module": "@jupyter-widgets/controls",
            "_model_module_version": "1.5.0",
            "value": 9912422,
            "_view_count": null,
            "_view_module_version": "1.5.0",
            "orientation": "horizontal",
            "min": 0,
            "description_tooltip": null,
            "_model_module": "@jupyter-widgets/controls",
            "layout": "IPY_MODEL_6fac6b919f2a4ee6abc1d36956d9e59b"
          }
        },
        "2063486874884352b752b9731b545ccb": {
          "model_module": "@jupyter-widgets/controls",
          "model_name": "HTMLModel",
          "model_module_version": "1.5.0",
          "state": {
            "_view_name": "HTMLView",
            "style": "IPY_MODEL_f188006c2e444ff0a38d5f1af84ec0ec",
            "_dom_classes": [],
            "description": "",
            "_model_name": "HTMLModel",
            "placeholder": "​",
            "_view_module": "@jupyter-widgets/controls",
            "_model_module_version": "1.5.0",
            "value": " 9913344/? [00:00&lt;00:00, 43781776.17it/s]",
            "_view_count": null,
            "_view_module_version": "1.5.0",
            "description_tooltip": null,
            "_model_module": "@jupyter-widgets/controls",
            "layout": "IPY_MODEL_fadc3442690b41559e1bec2bd5cde36d"
          }
        },
        "eca30ebe56aa448083374cff945ba638": {
          "model_module": "@jupyter-widgets/controls",
          "model_name": "DescriptionStyleModel",
          "model_module_version": "1.5.0",
          "state": {
            "_view_name": "StyleView",
            "_model_name": "DescriptionStyleModel",
            "description_width": "",
            "_view_module": "@jupyter-widgets/base",
            "_model_module_version": "1.5.0",
            "_view_count": null,
            "_view_module_version": "1.2.0",
            "_model_module": "@jupyter-widgets/controls"
          }
        },
        "0a6cff83bea54e0ebfb02154edf53984": {
          "model_module": "@jupyter-widgets/base",
          "model_name": "LayoutModel",
          "model_module_version": "1.2.0",
          "state": {
            "_view_name": "LayoutView",
            "grid_template_rows": null,
            "right": null,
            "justify_content": null,
            "_view_module": "@jupyter-widgets/base",
            "overflow": null,
            "_model_module_version": "1.2.0",
            "_view_count": null,
            "flex_flow": null,
            "width": null,
            "min_width": null,
            "border": null,
            "align_items": null,
            "bottom": null,
            "_model_module": "@jupyter-widgets/base",
            "top": null,
            "grid_column": null,
            "overflow_y": null,
            "overflow_x": null,
            "grid_auto_flow": null,
            "grid_area": null,
            "grid_template_columns": null,
            "flex": null,
            "_model_name": "LayoutModel",
            "justify_items": null,
            "grid_row": null,
            "max_height": null,
            "align_content": null,
            "visibility": null,
            "align_self": null,
            "height": null,
            "min_height": null,
            "padding": null,
            "grid_auto_rows": null,
            "grid_gap": null,
            "max_width": null,
            "order": null,
            "_view_module_version": "1.2.0",
            "grid_template_areas": null,
            "object_position": null,
            "object_fit": null,
            "grid_auto_columns": null,
            "margin": null,
            "display": null,
            "left": null
          }
        },
        "03c8d7eb734e41259ba5a6d53e8157d2": {
          "model_module": "@jupyter-widgets/controls",
          "model_name": "ProgressStyleModel",
          "model_module_version": "1.5.0",
          "state": {
            "_view_name": "StyleView",
            "_model_name": "ProgressStyleModel",
            "description_width": "",
            "_view_module": "@jupyter-widgets/base",
            "_model_module_version": "1.5.0",
            "_view_count": null,
            "_view_module_version": "1.2.0",
            "bar_color": null,
            "_model_module": "@jupyter-widgets/controls"
          }
        },
        "6fac6b919f2a4ee6abc1d36956d9e59b": {
          "model_module": "@jupyter-widgets/base",
          "model_name": "LayoutModel",
          "model_module_version": "1.2.0",
          "state": {
            "_view_name": "LayoutView",
            "grid_template_rows": null,
            "right": null,
            "justify_content": null,
            "_view_module": "@jupyter-widgets/base",
            "overflow": null,
            "_model_module_version": "1.2.0",
            "_view_count": null,
            "flex_flow": null,
            "width": null,
            "min_width": null,
            "border": null,
            "align_items": null,
            "bottom": null,
            "_model_module": "@jupyter-widgets/base",
            "top": null,
            "grid_column": null,
            "overflow_y": null,
            "overflow_x": null,
            "grid_auto_flow": null,
            "grid_area": null,
            "grid_template_columns": null,
            "flex": null,
            "_model_name": "LayoutModel",
            "justify_items": null,
            "grid_row": null,
            "max_height": null,
            "align_content": null,
            "visibility": null,
            "align_self": null,
            "height": null,
            "min_height": null,
            "padding": null,
            "grid_auto_rows": null,
            "grid_gap": null,
            "max_width": null,
            "order": null,
            "_view_module_version": "1.2.0",
            "grid_template_areas": null,
            "object_position": null,
            "object_fit": null,
            "grid_auto_columns": null,
            "margin": null,
            "display": null,
            "left": null
          }
        },
        "f188006c2e444ff0a38d5f1af84ec0ec": {
          "model_module": "@jupyter-widgets/controls",
          "model_name": "DescriptionStyleModel",
          "model_module_version": "1.5.0",
          "state": {
            "_view_name": "StyleView",
            "_model_name": "DescriptionStyleModel",
            "description_width": "",
            "_view_module": "@jupyter-widgets/base",
            "_model_module_version": "1.5.0",
            "_view_count": null,
            "_view_module_version": "1.2.0",
            "_model_module": "@jupyter-widgets/controls"
          }
        },
        "fadc3442690b41559e1bec2bd5cde36d": {
          "model_module": "@jupyter-widgets/base",
          "model_name": "LayoutModel",
          "model_module_version": "1.2.0",
          "state": {
            "_view_name": "LayoutView",
            "grid_template_rows": null,
            "right": null,
            "justify_content": null,
            "_view_module": "@jupyter-widgets/base",
            "overflow": null,
            "_model_module_version": "1.2.0",
            "_view_count": null,
            "flex_flow": null,
            "width": null,
            "min_width": null,
            "border": null,
            "align_items": null,
            "bottom": null,
            "_model_module": "@jupyter-widgets/base",
            "top": null,
            "grid_column": null,
            "overflow_y": null,
            "overflow_x": null,
            "grid_auto_flow": null,
            "grid_area": null,
            "grid_template_columns": null,
            "flex": null,
            "_model_name": "LayoutModel",
            "justify_items": null,
            "grid_row": null,
            "max_height": null,
            "align_content": null,
            "visibility": null,
            "align_self": null,
            "height": null,
            "min_height": null,
            "padding": null,
            "grid_auto_rows": null,
            "grid_gap": null,
            "max_width": null,
            "order": null,
            "_view_module_version": "1.2.0",
            "grid_template_areas": null,
            "object_position": null,
            "object_fit": null,
            "grid_auto_columns": null,
            "margin": null,
            "display": null,
            "left": null
          }
        },
        "a68cef101dba44bb900ae13619cb8cd1": {
          "model_module": "@jupyter-widgets/controls",
          "model_name": "HBoxModel",
          "model_module_version": "1.5.0",
          "state": {
            "_view_name": "HBoxView",
            "_dom_classes": [],
            "_model_name": "HBoxModel",
            "_view_module": "@jupyter-widgets/controls",
            "_model_module_version": "1.5.0",
            "_view_count": null,
            "_view_module_version": "1.5.0",
            "box_style": "",
            "layout": "IPY_MODEL_eb1ec56b71fe4b139730317b8b51fd88",
            "_model_module": "@jupyter-widgets/controls",
            "children": [
              "IPY_MODEL_94e7a9ee2f664ce18e5de325462af74c",
              "IPY_MODEL_ee64fc2ccb9846809b4aae78c13ddeaa",
              "IPY_MODEL_b02213073a42483887bd81fecbbf4513"
            ]
          }
        },
        "eb1ec56b71fe4b139730317b8b51fd88": {
          "model_module": "@jupyter-widgets/base",
          "model_name": "LayoutModel",
          "model_module_version": "1.2.0",
          "state": {
            "_view_name": "LayoutView",
            "grid_template_rows": null,
            "right": null,
            "justify_content": null,
            "_view_module": "@jupyter-widgets/base",
            "overflow": null,
            "_model_module_version": "1.2.0",
            "_view_count": null,
            "flex_flow": null,
            "width": null,
            "min_width": null,
            "border": null,
            "align_items": null,
            "bottom": null,
            "_model_module": "@jupyter-widgets/base",
            "top": null,
            "grid_column": null,
            "overflow_y": null,
            "overflow_x": null,
            "grid_auto_flow": null,
            "grid_area": null,
            "grid_template_columns": null,
            "flex": null,
            "_model_name": "LayoutModel",
            "justify_items": null,
            "grid_row": null,
            "max_height": null,
            "align_content": null,
            "visibility": null,
            "align_self": null,
            "height": null,
            "min_height": null,
            "padding": null,
            "grid_auto_rows": null,
            "grid_gap": null,
            "max_width": null,
            "order": null,
            "_view_module_version": "1.2.0",
            "grid_template_areas": null,
            "object_position": null,
            "object_fit": null,
            "grid_auto_columns": null,
            "margin": null,
            "display": null,
            "left": null
          }
        },
        "94e7a9ee2f664ce18e5de325462af74c": {
          "model_module": "@jupyter-widgets/controls",
          "model_name": "HTMLModel",
          "model_module_version": "1.5.0",
          "state": {
            "_view_name": "HTMLView",
            "style": "IPY_MODEL_4e94d83f5697443d97634bb100dbeacc",
            "_dom_classes": [],
            "description": "",
            "_model_name": "HTMLModel",
            "placeholder": "​",
            "_view_module": "@jupyter-widgets/controls",
            "_model_module_version": "1.5.0",
            "value": "",
            "_view_count": null,
            "_view_module_version": "1.5.0",
            "description_tooltip": null,
            "_model_module": "@jupyter-widgets/controls",
            "layout": "IPY_MODEL_9d4239d02b4d4e3ca3fd4f446313e366"
          }
        },
        "ee64fc2ccb9846809b4aae78c13ddeaa": {
          "model_module": "@jupyter-widgets/controls",
          "model_name": "FloatProgressModel",
          "model_module_version": "1.5.0",
          "state": {
            "_view_name": "ProgressView",
            "style": "IPY_MODEL_15787572d67d4d10ae464f29d3697b40",
            "_dom_classes": [],
            "description": "",
            "_model_name": "FloatProgressModel",
            "bar_style": "success",
            "max": 28881,
            "_view_module": "@jupyter-widgets/controls",
            "_model_module_version": "1.5.0",
            "value": 28881,
            "_view_count": null,
            "_view_module_version": "1.5.0",
            "orientation": "horizontal",
            "min": 0,
            "description_tooltip": null,
            "_model_module": "@jupyter-widgets/controls",
            "layout": "IPY_MODEL_06f936d4c56f4b1193c68af87d92340e"
          }
        },
        "b02213073a42483887bd81fecbbf4513": {
          "model_module": "@jupyter-widgets/controls",
          "model_name": "HTMLModel",
          "model_module_version": "1.5.0",
          "state": {
            "_view_name": "HTMLView",
            "style": "IPY_MODEL_b0bbe8177fab4ff583b099ceef91ebca",
            "_dom_classes": [],
            "description": "",
            "_model_name": "HTMLModel",
            "placeholder": "​",
            "_view_module": "@jupyter-widgets/controls",
            "_model_module_version": "1.5.0",
            "value": " 29696/? [00:00&lt;00:00, 806289.90it/s]",
            "_view_count": null,
            "_view_module_version": "1.5.0",
            "description_tooltip": null,
            "_model_module": "@jupyter-widgets/controls",
            "layout": "IPY_MODEL_6bd20d7b09954b9caf12b376751425ad"
          }
        },
        "4e94d83f5697443d97634bb100dbeacc": {
          "model_module": "@jupyter-widgets/controls",
          "model_name": "DescriptionStyleModel",
          "model_module_version": "1.5.0",
          "state": {
            "_view_name": "StyleView",
            "_model_name": "DescriptionStyleModel",
            "description_width": "",
            "_view_module": "@jupyter-widgets/base",
            "_model_module_version": "1.5.0",
            "_view_count": null,
            "_view_module_version": "1.2.0",
            "_model_module": "@jupyter-widgets/controls"
          }
        },
        "9d4239d02b4d4e3ca3fd4f446313e366": {
          "model_module": "@jupyter-widgets/base",
          "model_name": "LayoutModel",
          "model_module_version": "1.2.0",
          "state": {
            "_view_name": "LayoutView",
            "grid_template_rows": null,
            "right": null,
            "justify_content": null,
            "_view_module": "@jupyter-widgets/base",
            "overflow": null,
            "_model_module_version": "1.2.0",
            "_view_count": null,
            "flex_flow": null,
            "width": null,
            "min_width": null,
            "border": null,
            "align_items": null,
            "bottom": null,
            "_model_module": "@jupyter-widgets/base",
            "top": null,
            "grid_column": null,
            "overflow_y": null,
            "overflow_x": null,
            "grid_auto_flow": null,
            "grid_area": null,
            "grid_template_columns": null,
            "flex": null,
            "_model_name": "LayoutModel",
            "justify_items": null,
            "grid_row": null,
            "max_height": null,
            "align_content": null,
            "visibility": null,
            "align_self": null,
            "height": null,
            "min_height": null,
            "padding": null,
            "grid_auto_rows": null,
            "grid_gap": null,
            "max_width": null,
            "order": null,
            "_view_module_version": "1.2.0",
            "grid_template_areas": null,
            "object_position": null,
            "object_fit": null,
            "grid_auto_columns": null,
            "margin": null,
            "display": null,
            "left": null
          }
        },
        "15787572d67d4d10ae464f29d3697b40": {
          "model_module": "@jupyter-widgets/controls",
          "model_name": "ProgressStyleModel",
          "model_module_version": "1.5.0",
          "state": {
            "_view_name": "StyleView",
            "_model_name": "ProgressStyleModel",
            "description_width": "",
            "_view_module": "@jupyter-widgets/base",
            "_model_module_version": "1.5.0",
            "_view_count": null,
            "_view_module_version": "1.2.0",
            "bar_color": null,
            "_model_module": "@jupyter-widgets/controls"
          }
        },
        "06f936d4c56f4b1193c68af87d92340e": {
          "model_module": "@jupyter-widgets/base",
          "model_name": "LayoutModel",
          "model_module_version": "1.2.0",
          "state": {
            "_view_name": "LayoutView",
            "grid_template_rows": null,
            "right": null,
            "justify_content": null,
            "_view_module": "@jupyter-widgets/base",
            "overflow": null,
            "_model_module_version": "1.2.0",
            "_view_count": null,
            "flex_flow": null,
            "width": null,
            "min_width": null,
            "border": null,
            "align_items": null,
            "bottom": null,
            "_model_module": "@jupyter-widgets/base",
            "top": null,
            "grid_column": null,
            "overflow_y": null,
            "overflow_x": null,
            "grid_auto_flow": null,
            "grid_area": null,
            "grid_template_columns": null,
            "flex": null,
            "_model_name": "LayoutModel",
            "justify_items": null,
            "grid_row": null,
            "max_height": null,
            "align_content": null,
            "visibility": null,
            "align_self": null,
            "height": null,
            "min_height": null,
            "padding": null,
            "grid_auto_rows": null,
            "grid_gap": null,
            "max_width": null,
            "order": null,
            "_view_module_version": "1.2.0",
            "grid_template_areas": null,
            "object_position": null,
            "object_fit": null,
            "grid_auto_columns": null,
            "margin": null,
            "display": null,
            "left": null
          }
        },
        "b0bbe8177fab4ff583b099ceef91ebca": {
          "model_module": "@jupyter-widgets/controls",
          "model_name": "DescriptionStyleModel",
          "model_module_version": "1.5.0",
          "state": {
            "_view_name": "StyleView",
            "_model_name": "DescriptionStyleModel",
            "description_width": "",
            "_view_module": "@jupyter-widgets/base",
            "_model_module_version": "1.5.0",
            "_view_count": null,
            "_view_module_version": "1.2.0",
            "_model_module": "@jupyter-widgets/controls"
          }
        },
        "6bd20d7b09954b9caf12b376751425ad": {
          "model_module": "@jupyter-widgets/base",
          "model_name": "LayoutModel",
          "model_module_version": "1.2.0",
          "state": {
            "_view_name": "LayoutView",
            "grid_template_rows": null,
            "right": null,
            "justify_content": null,
            "_view_module": "@jupyter-widgets/base",
            "overflow": null,
            "_model_module_version": "1.2.0",
            "_view_count": null,
            "flex_flow": null,
            "width": null,
            "min_width": null,
            "border": null,
            "align_items": null,
            "bottom": null,
            "_model_module": "@jupyter-widgets/base",
            "top": null,
            "grid_column": null,
            "overflow_y": null,
            "overflow_x": null,
            "grid_auto_flow": null,
            "grid_area": null,
            "grid_template_columns": null,
            "flex": null,
            "_model_name": "LayoutModel",
            "justify_items": null,
            "grid_row": null,
            "max_height": null,
            "align_content": null,
            "visibility": null,
            "align_self": null,
            "height": null,
            "min_height": null,
            "padding": null,
            "grid_auto_rows": null,
            "grid_gap": null,
            "max_width": null,
            "order": null,
            "_view_module_version": "1.2.0",
            "grid_template_areas": null,
            "object_position": null,
            "object_fit": null,
            "grid_auto_columns": null,
            "margin": null,
            "display": null,
            "left": null
          }
        },
        "9e31cb5ca6de4c078a3c2a572fd374f1": {
          "model_module": "@jupyter-widgets/controls",
          "model_name": "HBoxModel",
          "model_module_version": "1.5.0",
          "state": {
            "_view_name": "HBoxView",
            "_dom_classes": [],
            "_model_name": "HBoxModel",
            "_view_module": "@jupyter-widgets/controls",
            "_model_module_version": "1.5.0",
            "_view_count": null,
            "_view_module_version": "1.5.0",
            "box_style": "",
            "layout": "IPY_MODEL_2b3fb1d5be9a4fe88a83b71a6144da38",
            "_model_module": "@jupyter-widgets/controls",
            "children": [
              "IPY_MODEL_f43bd9433f5543ccb8f0cd2962d5eb3f",
              "IPY_MODEL_f03706cd34d64e46a427a4b64aea4185",
              "IPY_MODEL_20577260ec0f425b91c0c87752e69143"
            ]
          }
        },
        "2b3fb1d5be9a4fe88a83b71a6144da38": {
          "model_module": "@jupyter-widgets/base",
          "model_name": "LayoutModel",
          "model_module_version": "1.2.0",
          "state": {
            "_view_name": "LayoutView",
            "grid_template_rows": null,
            "right": null,
            "justify_content": null,
            "_view_module": "@jupyter-widgets/base",
            "overflow": null,
            "_model_module_version": "1.2.0",
            "_view_count": null,
            "flex_flow": null,
            "width": null,
            "min_width": null,
            "border": null,
            "align_items": null,
            "bottom": null,
            "_model_module": "@jupyter-widgets/base",
            "top": null,
            "grid_column": null,
            "overflow_y": null,
            "overflow_x": null,
            "grid_auto_flow": null,
            "grid_area": null,
            "grid_template_columns": null,
            "flex": null,
            "_model_name": "LayoutModel",
            "justify_items": null,
            "grid_row": null,
            "max_height": null,
            "align_content": null,
            "visibility": null,
            "align_self": null,
            "height": null,
            "min_height": null,
            "padding": null,
            "grid_auto_rows": null,
            "grid_gap": null,
            "max_width": null,
            "order": null,
            "_view_module_version": "1.2.0",
            "grid_template_areas": null,
            "object_position": null,
            "object_fit": null,
            "grid_auto_columns": null,
            "margin": null,
            "display": null,
            "left": null
          }
        },
        "f43bd9433f5543ccb8f0cd2962d5eb3f": {
          "model_module": "@jupyter-widgets/controls",
          "model_name": "HTMLModel",
          "model_module_version": "1.5.0",
          "state": {
            "_view_name": "HTMLView",
            "style": "IPY_MODEL_8a904db3a97e4e5a91f08f0d35b5dc90",
            "_dom_classes": [],
            "description": "",
            "_model_name": "HTMLModel",
            "placeholder": "​",
            "_view_module": "@jupyter-widgets/controls",
            "_model_module_version": "1.5.0",
            "value": "",
            "_view_count": null,
            "_view_module_version": "1.5.0",
            "description_tooltip": null,
            "_model_module": "@jupyter-widgets/controls",
            "layout": "IPY_MODEL_c823678bfe114db9816885fb9e9466fd"
          }
        },
        "f03706cd34d64e46a427a4b64aea4185": {
          "model_module": "@jupyter-widgets/controls",
          "model_name": "FloatProgressModel",
          "model_module_version": "1.5.0",
          "state": {
            "_view_name": "ProgressView",
            "style": "IPY_MODEL_af6e2291354a4546bbae3cf2f5a20fa0",
            "_dom_classes": [],
            "description": "",
            "_model_name": "FloatProgressModel",
            "bar_style": "success",
            "max": 1648877,
            "_view_module": "@jupyter-widgets/controls",
            "_model_module_version": "1.5.0",
            "value": 1648877,
            "_view_count": null,
            "_view_module_version": "1.5.0",
            "orientation": "horizontal",
            "min": 0,
            "description_tooltip": null,
            "_model_module": "@jupyter-widgets/controls",
            "layout": "IPY_MODEL_a002a1d3ec6c42c293437dac80a0c080"
          }
        },
        "20577260ec0f425b91c0c87752e69143": {
          "model_module": "@jupyter-widgets/controls",
          "model_name": "HTMLModel",
          "model_module_version": "1.5.0",
          "state": {
            "_view_name": "HTMLView",
            "style": "IPY_MODEL_facfc0709a104edc9434b2c1d8e9f101",
            "_dom_classes": [],
            "description": "",
            "_model_name": "HTMLModel",
            "placeholder": "​",
            "_view_module": "@jupyter-widgets/controls",
            "_model_module_version": "1.5.0",
            "value": " 1649664/? [00:00&lt;00:00, 4729232.92it/s]",
            "_view_count": null,
            "_view_module_version": "1.5.0",
            "description_tooltip": null,
            "_model_module": "@jupyter-widgets/controls",
            "layout": "IPY_MODEL_386ed357ce814626b970dbc990b5f27b"
          }
        },
        "8a904db3a97e4e5a91f08f0d35b5dc90": {
          "model_module": "@jupyter-widgets/controls",
          "model_name": "DescriptionStyleModel",
          "model_module_version": "1.5.0",
          "state": {
            "_view_name": "StyleView",
            "_model_name": "DescriptionStyleModel",
            "description_width": "",
            "_view_module": "@jupyter-widgets/base",
            "_model_module_version": "1.5.0",
            "_view_count": null,
            "_view_module_version": "1.2.0",
            "_model_module": "@jupyter-widgets/controls"
          }
        },
        "c823678bfe114db9816885fb9e9466fd": {
          "model_module": "@jupyter-widgets/base",
          "model_name": "LayoutModel",
          "model_module_version": "1.2.0",
          "state": {
            "_view_name": "LayoutView",
            "grid_template_rows": null,
            "right": null,
            "justify_content": null,
            "_view_module": "@jupyter-widgets/base",
            "overflow": null,
            "_model_module_version": "1.2.0",
            "_view_count": null,
            "flex_flow": null,
            "width": null,
            "min_width": null,
            "border": null,
            "align_items": null,
            "bottom": null,
            "_model_module": "@jupyter-widgets/base",
            "top": null,
            "grid_column": null,
            "overflow_y": null,
            "overflow_x": null,
            "grid_auto_flow": null,
            "grid_area": null,
            "grid_template_columns": null,
            "flex": null,
            "_model_name": "LayoutModel",
            "justify_items": null,
            "grid_row": null,
            "max_height": null,
            "align_content": null,
            "visibility": null,
            "align_self": null,
            "height": null,
            "min_height": null,
            "padding": null,
            "grid_auto_rows": null,
            "grid_gap": null,
            "max_width": null,
            "order": null,
            "_view_module_version": "1.2.0",
            "grid_template_areas": null,
            "object_position": null,
            "object_fit": null,
            "grid_auto_columns": null,
            "margin": null,
            "display": null,
            "left": null
          }
        },
        "af6e2291354a4546bbae3cf2f5a20fa0": {
          "model_module": "@jupyter-widgets/controls",
          "model_name": "ProgressStyleModel",
          "model_module_version": "1.5.0",
          "state": {
            "_view_name": "StyleView",
            "_model_name": "ProgressStyleModel",
            "description_width": "",
            "_view_module": "@jupyter-widgets/base",
            "_model_module_version": "1.5.0",
            "_view_count": null,
            "_view_module_version": "1.2.0",
            "bar_color": null,
            "_model_module": "@jupyter-widgets/controls"
          }
        },
        "a002a1d3ec6c42c293437dac80a0c080": {
          "model_module": "@jupyter-widgets/base",
          "model_name": "LayoutModel",
          "model_module_version": "1.2.0",
          "state": {
            "_view_name": "LayoutView",
            "grid_template_rows": null,
            "right": null,
            "justify_content": null,
            "_view_module": "@jupyter-widgets/base",
            "overflow": null,
            "_model_module_version": "1.2.0",
            "_view_count": null,
            "flex_flow": null,
            "width": null,
            "min_width": null,
            "border": null,
            "align_items": null,
            "bottom": null,
            "_model_module": "@jupyter-widgets/base",
            "top": null,
            "grid_column": null,
            "overflow_y": null,
            "overflow_x": null,
            "grid_auto_flow": null,
            "grid_area": null,
            "grid_template_columns": null,
            "flex": null,
            "_model_name": "LayoutModel",
            "justify_items": null,
            "grid_row": null,
            "max_height": null,
            "align_content": null,
            "visibility": null,
            "align_self": null,
            "height": null,
            "min_height": null,
            "padding": null,
            "grid_auto_rows": null,
            "grid_gap": null,
            "max_width": null,
            "order": null,
            "_view_module_version": "1.2.0",
            "grid_template_areas": null,
            "object_position": null,
            "object_fit": null,
            "grid_auto_columns": null,
            "margin": null,
            "display": null,
            "left": null
          }
        },
        "facfc0709a104edc9434b2c1d8e9f101": {
          "model_module": "@jupyter-widgets/controls",
          "model_name": "DescriptionStyleModel",
          "model_module_version": "1.5.0",
          "state": {
            "_view_name": "StyleView",
            "_model_name": "DescriptionStyleModel",
            "description_width": "",
            "_view_module": "@jupyter-widgets/base",
            "_model_module_version": "1.5.0",
            "_view_count": null,
            "_view_module_version": "1.2.0",
            "_model_module": "@jupyter-widgets/controls"
          }
        },
        "386ed357ce814626b970dbc990b5f27b": {
          "model_module": "@jupyter-widgets/base",
          "model_name": "LayoutModel",
          "model_module_version": "1.2.0",
          "state": {
            "_view_name": "LayoutView",
            "grid_template_rows": null,
            "right": null,
            "justify_content": null,
            "_view_module": "@jupyter-widgets/base",
            "overflow": null,
            "_model_module_version": "1.2.0",
            "_view_count": null,
            "flex_flow": null,
            "width": null,
            "min_width": null,
            "border": null,
            "align_items": null,
            "bottom": null,
            "_model_module": "@jupyter-widgets/base",
            "top": null,
            "grid_column": null,
            "overflow_y": null,
            "overflow_x": null,
            "grid_auto_flow": null,
            "grid_area": null,
            "grid_template_columns": null,
            "flex": null,
            "_model_name": "LayoutModel",
            "justify_items": null,
            "grid_row": null,
            "max_height": null,
            "align_content": null,
            "visibility": null,
            "align_self": null,
            "height": null,
            "min_height": null,
            "padding": null,
            "grid_auto_rows": null,
            "grid_gap": null,
            "max_width": null,
            "order": null,
            "_view_module_version": "1.2.0",
            "grid_template_areas": null,
            "object_position": null,
            "object_fit": null,
            "grid_auto_columns": null,
            "margin": null,
            "display": null,
            "left": null
          }
        },
        "18a5f38fc82e4f0093784e33efc60368": {
          "model_module": "@jupyter-widgets/controls",
          "model_name": "HBoxModel",
          "model_module_version": "1.5.0",
          "state": {
            "_view_name": "HBoxView",
            "_dom_classes": [],
            "_model_name": "HBoxModel",
            "_view_module": "@jupyter-widgets/controls",
            "_model_module_version": "1.5.0",
            "_view_count": null,
            "_view_module_version": "1.5.0",
            "box_style": "",
            "layout": "IPY_MODEL_b8ec8c6fa66044b8ad95b1a3a0690b9c",
            "_model_module": "@jupyter-widgets/controls",
            "children": [
              "IPY_MODEL_af345b3aca724e3a9d832c880039b948",
              "IPY_MODEL_1666c901eff748e89c7af51b9d320a86",
              "IPY_MODEL_1de065b21b394eecb810bb1dff5e035b"
            ]
          }
        },
        "b8ec8c6fa66044b8ad95b1a3a0690b9c": {
          "model_module": "@jupyter-widgets/base",
          "model_name": "LayoutModel",
          "model_module_version": "1.2.0",
          "state": {
            "_view_name": "LayoutView",
            "grid_template_rows": null,
            "right": null,
            "justify_content": null,
            "_view_module": "@jupyter-widgets/base",
            "overflow": null,
            "_model_module_version": "1.2.0",
            "_view_count": null,
            "flex_flow": null,
            "width": null,
            "min_width": null,
            "border": null,
            "align_items": null,
            "bottom": null,
            "_model_module": "@jupyter-widgets/base",
            "top": null,
            "grid_column": null,
            "overflow_y": null,
            "overflow_x": null,
            "grid_auto_flow": null,
            "grid_area": null,
            "grid_template_columns": null,
            "flex": null,
            "_model_name": "LayoutModel",
            "justify_items": null,
            "grid_row": null,
            "max_height": null,
            "align_content": null,
            "visibility": null,
            "align_self": null,
            "height": null,
            "min_height": null,
            "padding": null,
            "grid_auto_rows": null,
            "grid_gap": null,
            "max_width": null,
            "order": null,
            "_view_module_version": "1.2.0",
            "grid_template_areas": null,
            "object_position": null,
            "object_fit": null,
            "grid_auto_columns": null,
            "margin": null,
            "display": null,
            "left": null
          }
        },
        "af345b3aca724e3a9d832c880039b948": {
          "model_module": "@jupyter-widgets/controls",
          "model_name": "HTMLModel",
          "model_module_version": "1.5.0",
          "state": {
            "_view_name": "HTMLView",
            "style": "IPY_MODEL_0e515319d1a64271a130cc35ca9b3d34",
            "_dom_classes": [],
            "description": "",
            "_model_name": "HTMLModel",
            "placeholder": "​",
            "_view_module": "@jupyter-widgets/controls",
            "_model_module_version": "1.5.0",
            "value": "",
            "_view_count": null,
            "_view_module_version": "1.5.0",
            "description_tooltip": null,
            "_model_module": "@jupyter-widgets/controls",
            "layout": "IPY_MODEL_5e85f30ea814453d88e69f457d7c9792"
          }
        },
        "1666c901eff748e89c7af51b9d320a86": {
          "model_module": "@jupyter-widgets/controls",
          "model_name": "FloatProgressModel",
          "model_module_version": "1.5.0",
          "state": {
            "_view_name": "ProgressView",
            "style": "IPY_MODEL_80a06d1f98b04726a0afda20bae5c685",
            "_dom_classes": [],
            "description": "",
            "_model_name": "FloatProgressModel",
            "bar_style": "success",
            "max": 4542,
            "_view_module": "@jupyter-widgets/controls",
            "_model_module_version": "1.5.0",
            "value": 4542,
            "_view_count": null,
            "_view_module_version": "1.5.0",
            "orientation": "horizontal",
            "min": 0,
            "description_tooltip": null,
            "_model_module": "@jupyter-widgets/controls",
            "layout": "IPY_MODEL_205a0057a74f4a4894d31dd87086b87c"
          }
        },
        "1de065b21b394eecb810bb1dff5e035b": {
          "model_module": "@jupyter-widgets/controls",
          "model_name": "HTMLModel",
          "model_module_version": "1.5.0",
          "state": {
            "_view_name": "HTMLView",
            "style": "IPY_MODEL_623a7493ad3745cd9f8318d1284221ea",
            "_dom_classes": [],
            "description": "",
            "_model_name": "HTMLModel",
            "placeholder": "​",
            "_view_module": "@jupyter-widgets/controls",
            "_model_module_version": "1.5.0",
            "value": " 5120/? [00:00&lt;00:00, 154624.27it/s]",
            "_view_count": null,
            "_view_module_version": "1.5.0",
            "description_tooltip": null,
            "_model_module": "@jupyter-widgets/controls",
            "layout": "IPY_MODEL_f1ad44ef7f314e9e8c116a0083be9636"
          }
        },
        "0e515319d1a64271a130cc35ca9b3d34": {
          "model_module": "@jupyter-widgets/controls",
          "model_name": "DescriptionStyleModel",
          "model_module_version": "1.5.0",
          "state": {
            "_view_name": "StyleView",
            "_model_name": "DescriptionStyleModel",
            "description_width": "",
            "_view_module": "@jupyter-widgets/base",
            "_model_module_version": "1.5.0",
            "_view_count": null,
            "_view_module_version": "1.2.0",
            "_model_module": "@jupyter-widgets/controls"
          }
        },
        "5e85f30ea814453d88e69f457d7c9792": {
          "model_module": "@jupyter-widgets/base",
          "model_name": "LayoutModel",
          "model_module_version": "1.2.0",
          "state": {
            "_view_name": "LayoutView",
            "grid_template_rows": null,
            "right": null,
            "justify_content": null,
            "_view_module": "@jupyter-widgets/base",
            "overflow": null,
            "_model_module_version": "1.2.0",
            "_view_count": null,
            "flex_flow": null,
            "width": null,
            "min_width": null,
            "border": null,
            "align_items": null,
            "bottom": null,
            "_model_module": "@jupyter-widgets/base",
            "top": null,
            "grid_column": null,
            "overflow_y": null,
            "overflow_x": null,
            "grid_auto_flow": null,
            "grid_area": null,
            "grid_template_columns": null,
            "flex": null,
            "_model_name": "LayoutModel",
            "justify_items": null,
            "grid_row": null,
            "max_height": null,
            "align_content": null,
            "visibility": null,
            "align_self": null,
            "height": null,
            "min_height": null,
            "padding": null,
            "grid_auto_rows": null,
            "grid_gap": null,
            "max_width": null,
            "order": null,
            "_view_module_version": "1.2.0",
            "grid_template_areas": null,
            "object_position": null,
            "object_fit": null,
            "grid_auto_columns": null,
            "margin": null,
            "display": null,
            "left": null
          }
        },
        "80a06d1f98b04726a0afda20bae5c685": {
          "model_module": "@jupyter-widgets/controls",
          "model_name": "ProgressStyleModel",
          "model_module_version": "1.5.0",
          "state": {
            "_view_name": "StyleView",
            "_model_name": "ProgressStyleModel",
            "description_width": "",
            "_view_module": "@jupyter-widgets/base",
            "_model_module_version": "1.5.0",
            "_view_count": null,
            "_view_module_version": "1.2.0",
            "bar_color": null,
            "_model_module": "@jupyter-widgets/controls"
          }
        },
        "205a0057a74f4a4894d31dd87086b87c": {
          "model_module": "@jupyter-widgets/base",
          "model_name": "LayoutModel",
          "model_module_version": "1.2.0",
          "state": {
            "_view_name": "LayoutView",
            "grid_template_rows": null,
            "right": null,
            "justify_content": null,
            "_view_module": "@jupyter-widgets/base",
            "overflow": null,
            "_model_module_version": "1.2.0",
            "_view_count": null,
            "flex_flow": null,
            "width": null,
            "min_width": null,
            "border": null,
            "align_items": null,
            "bottom": null,
            "_model_module": "@jupyter-widgets/base",
            "top": null,
            "grid_column": null,
            "overflow_y": null,
            "overflow_x": null,
            "grid_auto_flow": null,
            "grid_area": null,
            "grid_template_columns": null,
            "flex": null,
            "_model_name": "LayoutModel",
            "justify_items": null,
            "grid_row": null,
            "max_height": null,
            "align_content": null,
            "visibility": null,
            "align_self": null,
            "height": null,
            "min_height": null,
            "padding": null,
            "grid_auto_rows": null,
            "grid_gap": null,
            "max_width": null,
            "order": null,
            "_view_module_version": "1.2.0",
            "grid_template_areas": null,
            "object_position": null,
            "object_fit": null,
            "grid_auto_columns": null,
            "margin": null,
            "display": null,
            "left": null
          }
        },
        "623a7493ad3745cd9f8318d1284221ea": {
          "model_module": "@jupyter-widgets/controls",
          "model_name": "DescriptionStyleModel",
          "model_module_version": "1.5.0",
          "state": {
            "_view_name": "StyleView",
            "_model_name": "DescriptionStyleModel",
            "description_width": "",
            "_view_module": "@jupyter-widgets/base",
            "_model_module_version": "1.5.0",
            "_view_count": null,
            "_view_module_version": "1.2.0",
            "_model_module": "@jupyter-widgets/controls"
          }
        },
        "f1ad44ef7f314e9e8c116a0083be9636": {
          "model_module": "@jupyter-widgets/base",
          "model_name": "LayoutModel",
          "model_module_version": "1.2.0",
          "state": {
            "_view_name": "LayoutView",
            "grid_template_rows": null,
            "right": null,
            "justify_content": null,
            "_view_module": "@jupyter-widgets/base",
            "overflow": null,
            "_model_module_version": "1.2.0",
            "_view_count": null,
            "flex_flow": null,
            "width": null,
            "min_width": null,
            "border": null,
            "align_items": null,
            "bottom": null,
            "_model_module": "@jupyter-widgets/base",
            "top": null,
            "grid_column": null,
            "overflow_y": null,
            "overflow_x": null,
            "grid_auto_flow": null,
            "grid_area": null,
            "grid_template_columns": null,
            "flex": null,
            "_model_name": "LayoutModel",
            "justify_items": null,
            "grid_row": null,
            "max_height": null,
            "align_content": null,
            "visibility": null,
            "align_self": null,
            "height": null,
            "min_height": null,
            "padding": null,
            "grid_auto_rows": null,
            "grid_gap": null,
            "max_width": null,
            "order": null,
            "_view_module_version": "1.2.0",
            "grid_template_areas": null,
            "object_position": null,
            "object_fit": null,
            "grid_auto_columns": null,
            "margin": null,
            "display": null,
            "left": null
          }
        }
      }
    }
  },
  "cells": [
    {
      "cell_type": "markdown",
      "metadata": {
        "id": "view-in-github",
        "colab_type": "text"
      },
      "source": [
        "<a href=\"https://colab.research.google.com/github/follimatteo/LearningPyTorch/blob/main/mnist.ipynb\" target=\"_parent\"><img src=\"https://colab.research.google.com/assets/colab-badge.svg\" alt=\"Open In Colab\"/></a>"
      ]
    },
    {
      "cell_type": "code",
      "metadata": {
        "id": "kSvcHwB94R8R"
      },
      "source": [
        "import torch\n",
        "import torchvision\n",
        "from torchvision.transforms import transforms\n",
        "\n",
        "import matplotlib.pyplot as plt\n",
        "import torch.nn.functional as F"
      ],
      "execution_count": 1,
      "outputs": []
    },
    {
      "cell_type": "code",
      "metadata": {
        "colab": {
          "base_uri": "https://localhost:8080/"
        },
        "id": "Q92ZiVdx6WGG",
        "outputId": "99acb324-e2d0-41da-906e-a71e0f488943"
      },
      "source": [
        "torch.cuda.is_available()"
      ],
      "execution_count": 2,
      "outputs": [
        {
          "output_type": "execute_result",
          "data": {
            "text/plain": [
              "True"
            ]
          },
          "metadata": {},
          "execution_count": 2
        }
      ]
    },
    {
      "cell_type": "code",
      "metadata": {
        "colab": {
          "base_uri": "https://localhost:8080/",
          "height": 743,
          "referenced_widgets": [
            "aac72bda3fea4b589b3a38f621389840",
            "81a077c5be6940e3aacbe70ab99e22e8",
            "89eccc1dc82d433088e326b8c0f6a634",
            "f9bcdb0c964845e3b7a8884392b88f2b",
            "2063486874884352b752b9731b545ccb",
            "eca30ebe56aa448083374cff945ba638",
            "0a6cff83bea54e0ebfb02154edf53984",
            "03c8d7eb734e41259ba5a6d53e8157d2",
            "6fac6b919f2a4ee6abc1d36956d9e59b",
            "f188006c2e444ff0a38d5f1af84ec0ec",
            "fadc3442690b41559e1bec2bd5cde36d",
            "a68cef101dba44bb900ae13619cb8cd1",
            "eb1ec56b71fe4b139730317b8b51fd88",
            "94e7a9ee2f664ce18e5de325462af74c",
            "ee64fc2ccb9846809b4aae78c13ddeaa",
            "b02213073a42483887bd81fecbbf4513",
            "4e94d83f5697443d97634bb100dbeacc",
            "9d4239d02b4d4e3ca3fd4f446313e366",
            "15787572d67d4d10ae464f29d3697b40",
            "06f936d4c56f4b1193c68af87d92340e",
            "b0bbe8177fab4ff583b099ceef91ebca",
            "6bd20d7b09954b9caf12b376751425ad",
            "9e31cb5ca6de4c078a3c2a572fd374f1",
            "2b3fb1d5be9a4fe88a83b71a6144da38",
            "f43bd9433f5543ccb8f0cd2962d5eb3f",
            "f03706cd34d64e46a427a4b64aea4185",
            "20577260ec0f425b91c0c87752e69143",
            "8a904db3a97e4e5a91f08f0d35b5dc90",
            "c823678bfe114db9816885fb9e9466fd",
            "af6e2291354a4546bbae3cf2f5a20fa0",
            "a002a1d3ec6c42c293437dac80a0c080",
            "facfc0709a104edc9434b2c1d8e9f101",
            "386ed357ce814626b970dbc990b5f27b",
            "18a5f38fc82e4f0093784e33efc60368",
            "b8ec8c6fa66044b8ad95b1a3a0690b9c",
            "af345b3aca724e3a9d832c880039b948",
            "1666c901eff748e89c7af51b9d320a86",
            "1de065b21b394eecb810bb1dff5e035b",
            "0e515319d1a64271a130cc35ca9b3d34",
            "5e85f30ea814453d88e69f457d7c9792",
            "80a06d1f98b04726a0afda20bae5c685",
            "205a0057a74f4a4894d31dd87086b87c",
            "623a7493ad3745cd9f8318d1284221ea",
            "f1ad44ef7f314e9e8c116a0083be9636"
          ]
        },
        "id": "HR_6Gt6d4V9k",
        "outputId": "dcbf2612-b4e5-41c1-cf5a-1d2b617ddddf"
      },
      "source": [
        "data_train = torchvision.datasets.MNIST(\"/data/\", train = True, download=True, transform=transforms.ToTensor())\n",
        "data_test = torchvision.datasets.MNIST(\"/data/\", train = False, download=True, transform=transforms.ToTensor())\n",
        "\n",
        "classes = data_train.classes\n",
        "data_train, classes"
      ],
      "execution_count": 3,
      "outputs": [
        {
          "output_type": "stream",
          "name": "stdout",
          "text": [
            "Downloading http://yann.lecun.com/exdb/mnist/train-images-idx3-ubyte.gz\n",
            "Downloading http://yann.lecun.com/exdb/mnist/train-images-idx3-ubyte.gz to /data/MNIST/raw/train-images-idx3-ubyte.gz\n"
          ]
        },
        {
          "output_type": "display_data",
          "data": {
            "application/vnd.jupyter.widget-view+json": {
              "model_id": "aac72bda3fea4b589b3a38f621389840",
              "version_minor": 0,
              "version_major": 2
            },
            "text/plain": [
              "  0%|          | 0/9912422 [00:00<?, ?it/s]"
            ]
          },
          "metadata": {}
        },
        {
          "output_type": "stream",
          "name": "stdout",
          "text": [
            "Extracting /data/MNIST/raw/train-images-idx3-ubyte.gz to /data/MNIST/raw\n",
            "\n",
            "Downloading http://yann.lecun.com/exdb/mnist/train-labels-idx1-ubyte.gz\n",
            "Downloading http://yann.lecun.com/exdb/mnist/train-labels-idx1-ubyte.gz to /data/MNIST/raw/train-labels-idx1-ubyte.gz\n"
          ]
        },
        {
          "output_type": "display_data",
          "data": {
            "application/vnd.jupyter.widget-view+json": {
              "model_id": "a68cef101dba44bb900ae13619cb8cd1",
              "version_minor": 0,
              "version_major": 2
            },
            "text/plain": [
              "  0%|          | 0/28881 [00:00<?, ?it/s]"
            ]
          },
          "metadata": {}
        },
        {
          "output_type": "stream",
          "name": "stdout",
          "text": [
            "Extracting /data/MNIST/raw/train-labels-idx1-ubyte.gz to /data/MNIST/raw\n",
            "\n",
            "Downloading http://yann.lecun.com/exdb/mnist/t10k-images-idx3-ubyte.gz\n",
            "Downloading http://yann.lecun.com/exdb/mnist/t10k-images-idx3-ubyte.gz to /data/MNIST/raw/t10k-images-idx3-ubyte.gz\n"
          ]
        },
        {
          "output_type": "display_data",
          "data": {
            "application/vnd.jupyter.widget-view+json": {
              "model_id": "9e31cb5ca6de4c078a3c2a572fd374f1",
              "version_minor": 0,
              "version_major": 2
            },
            "text/plain": [
              "  0%|          | 0/1648877 [00:00<?, ?it/s]"
            ]
          },
          "metadata": {}
        },
        {
          "output_type": "stream",
          "name": "stdout",
          "text": [
            "Extracting /data/MNIST/raw/t10k-images-idx3-ubyte.gz to /data/MNIST/raw\n",
            "\n",
            "Downloading http://yann.lecun.com/exdb/mnist/t10k-labels-idx1-ubyte.gz\n",
            "Downloading http://yann.lecun.com/exdb/mnist/t10k-labels-idx1-ubyte.gz to /data/MNIST/raw/t10k-labels-idx1-ubyte.gz\n"
          ]
        },
        {
          "output_type": "display_data",
          "data": {
            "application/vnd.jupyter.widget-view+json": {
              "model_id": "18a5f38fc82e4f0093784e33efc60368",
              "version_minor": 0,
              "version_major": 2
            },
            "text/plain": [
              "  0%|          | 0/4542 [00:00<?, ?it/s]"
            ]
          },
          "metadata": {}
        },
        {
          "output_type": "stream",
          "name": "stdout",
          "text": [
            "Extracting /data/MNIST/raw/t10k-labels-idx1-ubyte.gz to /data/MNIST/raw\n",
            "\n"
          ]
        },
        {
          "output_type": "stream",
          "name": "stderr",
          "text": [
            "/usr/local/lib/python3.7/dist-packages/torchvision/datasets/mnist.py:498: UserWarning: The given NumPy array is not writeable, and PyTorch does not support non-writeable tensors. This means you can write to the underlying (supposedly non-writeable) NumPy array using the tensor. You may want to copy the array to protect its data or make it writeable before converting it to a tensor. This type of warning will be suppressed for the rest of this program. (Triggered internally at  /pytorch/torch/csrc/utils/tensor_numpy.cpp:180.)\n",
            "  return torch.from_numpy(parsed.astype(m[2], copy=False)).view(*s)\n"
          ]
        },
        {
          "output_type": "execute_result",
          "data": {
            "text/plain": [
              "(Dataset MNIST\n",
              "     Number of datapoints: 60000\n",
              "     Root location: /data/\n",
              "     Split: Train\n",
              "     StandardTransform\n",
              " Transform: ToTensor(),\n",
              " ['0 - zero',\n",
              "  '1 - one',\n",
              "  '2 - two',\n",
              "  '3 - three',\n",
              "  '4 - four',\n",
              "  '5 - five',\n",
              "  '6 - six',\n",
              "  '7 - seven',\n",
              "  '8 - eight',\n",
              "  '9 - nine'])"
            ]
          },
          "metadata": {},
          "execution_count": 3
        }
      ]
    },
    {
      "cell_type": "code",
      "metadata": {
        "colab": {
          "base_uri": "https://localhost:8080/",
          "height": 435
        },
        "id": "H2-gYUxl4Zt7",
        "outputId": "9c66f2bc-7516-473f-ae39-859397bd0bd0"
      },
      "source": [
        "# Dataset exploration \n",
        "print(type(data_train[0]))\n",
        "print(type(data_train[0][0]))\n",
        "print(data_train[0][0].shape)\n",
        "print(data_train[0][0][0][0])\n",
        "print(\"\\n\")\n",
        "print(\"\\n\")\n",
        "print(\"Label: \", data_train[0][1])\n",
        "plt.imshow(data_train[0][0].view(28,28));"
      ],
      "execution_count": 4,
      "outputs": [
        {
          "output_type": "stream",
          "name": "stdout",
          "text": [
            "<class 'tuple'>\n",
            "<class 'torch.Tensor'>\n",
            "torch.Size([1, 28, 28])\n",
            "tensor([0., 0., 0., 0., 0., 0., 0., 0., 0., 0., 0., 0., 0., 0., 0., 0., 0., 0., 0., 0., 0., 0., 0., 0.,\n",
            "        0., 0., 0., 0.])\n",
            "\n",
            "\n",
            "\n",
            "\n",
            "Label:  5\n"
          ]
        },
        {
          "output_type": "display_data",
          "data": {
            "image/png": "[encoded data removed]",
            "text/plain": [
              "<Figure size 432x288 with 1 Axes>"
            ]
          },
          "metadata": {
            "needs_background": "light"
          }
        }
      ]
    },
    {
      "cell_type": "code",
      "metadata": {
        "colab": {
          "base_uri": "https://localhost:8080/"
        },
        "id": "jWQ1f3KX1wL_",
        "outputId": "08894e2d-df9c-4172-a3ad-5c43790a9753"
      },
      "source": [
        "def tensor2matrix(dset, limit=-1):\n",
        "  x = dset.data[:limit].clone().detach().float().div_(255)\n",
        "  x = x.reshape((x.shape[0], -1))\n",
        "  y = dset.targets[:limit].clone().detach()\n",
        "  return x, y\n",
        "\n",
        "x_train, y_train = tensor2matrix(data_train, limit = 10000)\n",
        "x_valid, y_valid = tensor2matrix(data_test, limit = 1000 )\n",
        "print(x_train.shape)\n",
        "print(y_train.shape)\n",
        "print(x_valid.shape)\n",
        "print(y_valid.shape)"
      ],
      "execution_count": 5,
      "outputs": [
        {
          "output_type": "stream",
          "name": "stdout",
          "text": [
            "torch.Size([10000, 784])\n",
            "torch.Size([10000])\n",
            "torch.Size([1000, 784])\n",
            "torch.Size([1000])\n"
          ]
        }
      ]
    },
    {
      "cell_type": "code",
      "metadata": {
        "id": "Qe0R01I2KutF"
      },
      "source": [
        "### Linear classifier\n",
        "class Lin ():\n",
        "  def __init__(self, shape, lr, loss):\n",
        "    self.device=torch.device('cuda' if torch.cuda.is_available() else 'cpu')\n",
        "    self.W = torch.rand(shape, requires_grad=True)\n",
        "    self.b = torch.rand(shape[-1], requires_grad=True)\n",
        "    \n",
        "    self.lr = lr\n",
        "    self.loss = loss\n",
        "    #print(\"W: \",self.W.shape)\n",
        "    #print(\"b: \",self.b.shape)\n",
        "\n",
        "\n",
        "  def __call__(self, x):\n",
        "    return torch.matmul(x, self.W) + self.b\n",
        "\n",
        "  def train(self, x, y, x_valid, y_valid, epochs, step = 0):\n",
        "\n",
        "    for e in range(epochs+1):\n",
        "      \n",
        "      scores = self.__call__(x)\n",
        "      l = self.loss(scores, y)\n",
        "      l.backward()\n",
        "      \n",
        "      acc = accuracy(scores, y)\n",
        "      with torch.no_grad():\n",
        "        # compute validation loss and metrics\n",
        "        valid_scores = self.__call__(x_valid)\n",
        "        valid_loss = F.cross_entropy(valid_scores, y_valid).item()\n",
        "        valid_acc = accuracy(valid_scores, y_valid).item()\n",
        "\n",
        "        self.W -= self.lr * self.W.grad\n",
        "        self.b -= self.lr * self.b.grad\n",
        "\n",
        "        self.W.grad.zero_()\n",
        "        self.b.grad.zero_()\n",
        "      \n",
        "      if e % 100 == 0:\n",
        "        print(f\"Epoch {e}: train loss {l:.3f} - train acc {acc:.3f} - valid loss {valid_loss:.3f} - valid acc {valid_acc:.3f}\")\n",
        "\n",
        "      \n"
      ],
      "execution_count": 6,
      "outputs": []
    },
    {
      "cell_type": "code",
      "metadata": {
        "id": "e6E2ii4-ecFP"
      },
      "source": [
        "def accuracy(scores, y):\n",
        "  y_hat = torch.argmax(scores, -1)\n",
        "  correct = (y_hat==y).sum()\n",
        "  return correct.true_divide(y.shape[0])"
      ],
      "execution_count": 7,
      "outputs": []
    },
    {
      "cell_type": "code",
      "metadata": {
        "colab": {
          "base_uri": "https://localhost:8080/"
        },
        "id": "xGCMSUgzK2sS",
        "outputId": "3fbf1172-e988-49f5-d549-bae49f59ec5f"
      },
      "source": [
        "### random classifier\n",
        "lin = Lin((28*28,10), 0, None)\n",
        "out = lin(x_train)\n",
        "acc = accuracy(out, y_train)\n",
        "print(acc)"
      ],
      "execution_count": 8,
      "outputs": [
        {
          "output_type": "stream",
          "name": "stdout",
          "text": [
            "tensor(0.0666)\n"
          ]
        }
      ]
    },
    {
      "cell_type": "code",
      "metadata": {
        "colab": {
          "base_uri": "https://localhost:8080/"
        },
        "id": "1Rj1j7lhMtYQ",
        "outputId": "4ebb6dd1-71f5-46c5-86f7-26659e264175"
      },
      "source": [
        "### TRAIN \n",
        "lin = Lin((28*28,10), 0.1, F.cross_entropy)\n",
        "lin.train(x_train, y_train, x_valid, y_valid, 2000, 0)"
      ],
      "execution_count": 9,
      "outputs": [
        {
          "output_type": "stream",
          "name": "stdout",
          "text": [
            "Epoch 0: train loss 5.085 - train acc 0.120 - valid loss 4.989 - valid acc 0.117\n",
            "Epoch 100: train loss 0.821 - train acc 0.741 - valid loss 0.892 - valid acc 0.704\n",
            "Epoch 200: train loss 0.607 - train acc 0.814 - valid loss 0.685 - valid acc 0.768\n",
            "Epoch 300: train loss 0.521 - train acc 0.845 - valid loss 0.601 - valid acc 0.811\n",
            "Epoch 400: train loss 0.472 - train acc 0.861 - valid loss 0.553 - valid acc 0.832\n",
            "Epoch 500: train loss 0.440 - train acc 0.872 - valid loss 0.522 - valid acc 0.835\n",
            "Epoch 600: train loss 0.416 - train acc 0.879 - valid loss 0.500 - valid acc 0.842\n",
            "Epoch 700: train loss 0.398 - train acc 0.885 - valid loss 0.483 - valid acc 0.848\n",
            "Epoch 800: train loss 0.384 - train acc 0.889 - valid loss 0.469 - valid acc 0.852\n",
            "Epoch 900: train loss 0.372 - train acc 0.893 - valid loss 0.458 - valid acc 0.855\n",
            "Epoch 1000: train loss 0.362 - train acc 0.897 - valid loss 0.449 - valid acc 0.858\n",
            "Epoch 1100: train loss 0.353 - train acc 0.899 - valid loss 0.441 - valid acc 0.860\n",
            "Epoch 1200: train loss 0.345 - train acc 0.901 - valid loss 0.435 - valid acc 0.864\n",
            "Epoch 1300: train loss 0.338 - train acc 0.904 - valid loss 0.429 - valid acc 0.866\n",
            "Epoch 1400: train loss 0.332 - train acc 0.906 - valid loss 0.423 - valid acc 0.868\n",
            "Epoch 1500: train loss 0.327 - train acc 0.907 - valid loss 0.419 - valid acc 0.870\n",
            "Epoch 1600: train loss 0.321 - train acc 0.908 - valid loss 0.415 - valid acc 0.873\n",
            "Epoch 1700: train loss 0.317 - train acc 0.910 - valid loss 0.411 - valid acc 0.876\n",
            "Epoch 1800: train loss 0.312 - train acc 0.911 - valid loss 0.408 - valid acc 0.876\n",
            "Epoch 1900: train loss 0.308 - train acc 0.912 - valid loss 0.404 - valid acc 0.875\n",
            "Epoch 2000: train loss 0.305 - train acc 0.914 - valid loss 0.402 - valid acc 0.875\n"
          ]
        }
      ]
    },
    {
      "cell_type": "code",
      "metadata": {
        "id": "M7StTA6YkkEC"
      },
      "source": [
        "### Linear classifier, ADDING OPTIMIZERS\n",
        "class Lin ():\n",
        "  def __init__(self, shape, lr, loss, opti='default'):\n",
        "    self.device=torch.device('cuda' if torch.cuda.is_available() else 'cpu')\n",
        "    self.W = torch.rand(shape, requires_grad=True)\n",
        "    self.b = torch.rand(shape[-1], requires_grad=True)\n",
        "    \n",
        "    self.loss = loss\n",
        "    self.opti = torch.optim.Adam([self.W, self.b]) if opti == 'default' else opti([self.W,self.b])\n",
        "    #print(\"W: \",self.W.shape)\n",
        "    #print(\"b: \",self.b.shape)\n",
        "\n",
        "\n",
        "  def __call__(self, x):\n",
        "    return torch.matmul(x, self.W) + self.b\n",
        "\n",
        "  def train(self, x, y, x_valid, y_valid, epochs, step = 0):\n",
        "    losses = []\n",
        "    accuracies = []\n",
        "\n",
        "    for e in range(epochs+1):\n",
        "      \n",
        "      scores = self.__call__(x)\n",
        "      l = self.loss(scores, y)\n",
        "      l.backward()\n",
        "      self.opti.step()\n",
        "\n",
        "      acc = accuracy(scores, y)\n",
        "      losses.append(l)\n",
        "      accuracies.append(acc)\n",
        "      with torch.no_grad():\n",
        "        # compute validation loss and metrics\n",
        "        valid_scores = self.__call__(x_valid)\n",
        "        valid_loss = F.cross_entropy(valid_scores, y_valid).item()\n",
        "        valid_acc = accuracy(valid_scores, y_valid).item()\n",
        "\n",
        "      if e % 100 == 0:\n",
        "        print(f\"Epoch {e}: train loss {l:.3f} - train acc {acc:.3f} - valid loss {valid_loss:.3f} - valid acc {valid_acc:.3f}\")\n",
        "      \n",
        "    plt.plot(losses)\n",
        "    plt.plot(accuracies)\n",
        "    plt.show()"
      ],
      "execution_count": 10,
      "outputs": []
    },
    {
      "cell_type": "code",
      "metadata": {
        "colab": {
          "base_uri": "https://localhost:8080/",
          "height": 316
        },
        "id": "wZ8JfIGIAwou",
        "outputId": "6f756e49-2467-42ad-b5c3-d17802d4c7d1"
      },
      "source": [
        "### TRAIN \n",
        "lin = Lin((28*28,10), 0.1, F.cross_entropy)\n",
        "lin.train(x_train, y_train, x_valid, y_valid, 200, 0)"
      ],
      "execution_count": 11,
      "outputs": [
        {
          "output_type": "stream",
          "name": "stdout",
          "text": [
            "Epoch 0: train loss 4.697 - train acc 0.074 - valid loss 4.415 - valid acc 0.072\n",
            "Epoch 100: train loss 1.222 - train acc 0.647 - valid loss 1.272 - valid acc 0.606\n",
            "Epoch 200: train loss 1.022 - train acc 0.750 - valid loss 1.212 - valid acc 0.701\n"
          ]
        },
        {
          "output_type": "display_data",
          "data": {
            "image/png": "[encoded data removed]",
            "text/plain": [
              "<Figure size 432x288 with 1 Axes>"
            ]
          },
          "metadata": {
            "needs_background": "light"
          }
        }
      ]
    },
    {
      "cell_type": "markdown",
      "metadata": {
        "id": "bGZpKzkIyHKM"
      },
      "source": [
        "## NN Module"
      ]
    },
    {
      "cell_type": "code",
      "metadata": {
        "id": "yrKxY7UUyexr"
      },
      "source": [
        "import torch as T\n",
        "import torchvision\n",
        "from torchvision.transforms import transforms\n",
        "\n",
        "import matplotlib.pyplot as plt\n",
        "import torch.nn.functional as F\n",
        "\n",
        "from functools import partial\n",
        "from timeit import default_timer as timer"
      ],
      "execution_count": 76,
      "outputs": []
    },
    {
      "cell_type": "code",
      "metadata": {
        "id": "kLca9AU5ysV-",
        "outputId": "f0309a33-52c1-4358-c69b-d917f87efe89",
        "colab": {
          "base_uri": "https://localhost:8080/"
        }
      },
      "source": [
        "data_train = torchvision.datasets.MNIST(\"/data/\", train = True, download=True, transform=transforms.ToTensor())\n",
        "data_test = torchvision.datasets.MNIST(\"/data/\", train = False, download=True, transform=transforms.ToTensor())\n",
        "\n",
        "classes = data_train.classes\n",
        "data_train, classes"
      ],
      "execution_count": 14,
      "outputs": [
        {
          "output_type": "execute_result",
          "data": {
            "text/plain": [
              "(Dataset MNIST\n",
              "     Number of datapoints: 60000\n",
              "     Root location: /data/\n",
              "     Split: Train\n",
              "     StandardTransform\n",
              " Transform: ToTensor(),\n",
              " ['0 - zero',\n",
              "  '1 - one',\n",
              "  '2 - two',\n",
              "  '3 - three',\n",
              "  '4 - four',\n",
              "  '5 - five',\n",
              "  '6 - six',\n",
              "  '7 - seven',\n",
              "  '8 - eight',\n",
              "  '9 - nine'])"
            ]
          },
          "metadata": {},
          "execution_count": 14
        }
      ]
    },
    {
      "cell_type": "code",
      "metadata": {
        "id": "o9Ks7zxeyGfk",
        "outputId": "a0de1a8e-5f32-4d2d-aefe-eca7dfc79bae",
        "colab": {
          "base_uri": "https://localhost:8080/"
        }
      },
      "source": [
        "## DATA LOADER\n",
        "train_dataloader = T.utils.data.DataLoader(data_train, batch_size=32)\n",
        "test_dataloader = T.utils.data.DataLoader(data_test, batch_size=32)\n",
        "\n",
        "for x, y in test_dataloader:\n",
        "  print(x.shape)\n",
        "  print(y.shape)\n",
        "  break"
      ],
      "execution_count": 15,
      "outputs": [
        {
          "output_type": "stream",
          "name": "stdout",
          "text": [
            "torch.Size([32, 1, 28, 28])\n",
            "torch.Size([32])\n"
          ]
        }
      ]
    },
    {
      "cell_type": "code",
      "metadata": {
        "id": "RU2hF3QXyY8c",
        "outputId": "c42dc543-32a8-4629-ab0a-c902e7918a36",
        "colab": {
          "base_uri": "https://localhost:8080/"
        }
      },
      "source": [
        "device = \"cuda\" if torch.cuda.is_available() else \"cpu\"\n",
        "print(\"Using {} device\".format(device))\n",
        "\n",
        "\n",
        "class NN (T.nn.Module):\n",
        "  def __init__(self, hidden_layers, in_size, hidden_size, out):\n",
        "    super(NN, self).__init__()\n",
        "    self.ln0 = T.nn.Linear(in_size, hidden_size)\n",
        "    self.hidden_ln = T.nn.ModuleList(\n",
        "        [T.nn.Linear(hidden_size, hidden_size) for i in range(hidden_layers)])\n",
        "    self.ln = T.nn.Linear(hidden_size, out)\n",
        "\n",
        "  def forward(self, x):\n",
        "    x = T.nn.Flatten()(x)\n",
        "    x = self.ln0(x)\n",
        "    x = T.nn.ReLU()(x)\n",
        "    for l in self.hidden_ln:\n",
        "      x = l(x)\n",
        "      x = T.nn.ReLU()(x)\n",
        "    x = self.ln(x)\n",
        "    return x\n",
        "\n",
        "model_cpu = NN(1 ,28*28, 512, 10).to('cpu')\n",
        "print(\"cpu model created\")\n",
        "\n",
        "if device == \"cuda\":\n",
        "  model_gpu = NN(1 ,28*28, 512, 10).to(device)\n",
        "  print(\"gpu model created\")"
      ],
      "execution_count": 72,
      "outputs": [
        {
          "output_type": "stream",
          "name": "stdout",
          "text": [
            "Using cuda device\n",
            "cpu model created\n",
            "gpu model created\n"
          ]
        }
      ]
    },
    {
      "cell_type": "code",
      "metadata": {
        "id": "RMW10Nkw0U6o"
      },
      "source": [
        "## loss and opt \n",
        "\n",
        "loss_fn = T.nn.CrossEntropyLoss()\n",
        "optimizer = partial(T.optim.SGD, lr=1e-3)"
      ],
      "execution_count": 63,
      "outputs": []
    },
    {
      "cell_type": "code",
      "metadata": {
        "id": "Tr4txw6R2Z8A"
      },
      "source": [
        "def train(dataloader, model, loss_fn, optimizer):\n",
        "    \n",
        "    optimizer = optimizer(model.parameters())\n",
        "    size = len(dataloader.dataset)\n",
        "    model.train()\n",
        "    \n",
        "    for batch, (X, y) in enumerate(dataloader):\n",
        "        X, y = X.to(device), y.to(device)\n",
        "        \n",
        "        # Compute prediction error\n",
        "        pred = model(X)\n",
        "        loss = loss_fn(pred, y)\n",
        "\n",
        "        # Backpropagation\n",
        "        optimizer.zero_grad()\n",
        "        loss.backward()\n",
        "        optimizer.step()\n",
        "\n",
        "        if batch % 100 == 0:\n",
        "            loss, current = loss.item(), batch * len(X)\n",
        "            print(f\"loss: {loss:>7f}  [{current:>5d}/{size:>5d}]\")"
      ],
      "execution_count": 67,
      "outputs": []
    },
    {
      "cell_type": "code",
      "metadata": {
        "id": "3n2m8I963q-Q"
      },
      "source": [
        "def test(dataloader, model, loss_fn):\n",
        "    size = len(dataloader.dataset)\n",
        "    num_batches = len(dataloader)\n",
        "    model.eval()\n",
        "    test_loss, correct = 0, 0\n",
        "    with torch.no_grad():\n",
        "        for X, y in dataloader:\n",
        "            X, y = X.to(device), y.to(device)\n",
        "            pred = model(X)\n",
        "            test_loss += loss_fn(pred, y).item()\n",
        "            correct += (pred.argmax(1) == y).type(torch.float).sum().item()\n",
        "    test_loss /= num_batches\n",
        "    correct /= size\n",
        "    print(f\"Test Error: \\n Accuracy: {(100*correct):>0.1f}%, Avg loss: {test_loss:>8f} \\n\")"
      ],
      "execution_count": 68,
      "outputs": []
    },
    {
      "cell_type": "code",
      "metadata": {
        "id": "JJdp6yV63uyy",
        "outputId": "4308db9c-95fa-470d-caac-c3d452a90760",
        "colab": {
          "base_uri": "https://localhost:8080/"
        }
      },
      "source": [
        "## train test on gpu \n",
        "device = \"gpu\"\n",
        "epochs = 5\n",
        "start = timer()\n",
        "for t in range(epochs):\n",
        "    print(f\"Epoch {t+1}\\n-------------------------------\")\n",
        "    train(train_dataloader, model_gpu, loss_fn, optimizer)\n",
        "    test(test_dataloader, model_gpu, loss_fn)\n",
        "end = timer()\n",
        "\n",
        "print(\"Done! elapsed time {0}\".format(end-start))"
      ],
      "execution_count": 79,
      "outputs": [
        {
          "output_type": "stream",
          "name": "stdout",
          "text": [
            "Epoch 1\n",
            "-------------------------------\n",
            "loss: 0.589584  [    0/60000]\n",
            "loss: 0.484957  [ 3200/60000]\n",
            "loss: 0.465791  [ 6400/60000]\n",
            "loss: 0.396865  [ 9600/60000]\n",
            "loss: 0.396212  [12800/60000]\n",
            "loss: 0.589071  [16000/60000]\n",
            "loss: 0.317289  [19200/60000]\n",
            "loss: 0.312357  [22400/60000]\n",
            "loss: 0.317007  [25600/60000]\n",
            "loss: 0.259020  [28800/60000]\n",
            "loss: 0.399202  [32000/60000]\n",
            "loss: 0.338967  [35200/60000]\n",
            "loss: 0.361333  [38400/60000]\n",
            "loss: 0.452845  [41600/60000]\n",
            "loss: 0.414391  [44800/60000]\n",
            "loss: 0.263846  [48000/60000]\n",
            "loss: 0.388451  [51200/60000]\n",
            "loss: 0.266070  [54400/60000]\n",
            "loss: 0.370493  [57600/60000]\n",
            "Test Error: \n",
            " Accuracy: 89.1%, Avg loss: 0.396733 \n",
            "\n",
            "Done! elapsed time 6.998031557000104\n"
          ]
        }
      ]
    },
    {
      "cell_type": "code",
      "metadata": {
        "id": "3hrVDbc53vGO",
        "outputId": "bb0e01fa-c87c-42c7-8531-f2f8cc481140",
        "colab": {
          "base_uri": "https://localhost:8080/"
        }
      },
      "source": [
        "## train test on cpu \n",
        "device = \"cpu\"\n",
        "epochs = 5\n",
        "start = timer()\n",
        "for t in range(epochs):\n",
        "    print(f\"Epoch {t+1}\\n-------------------------------\")\n",
        "    train(train_dataloader, model_cpu, loss_fn, optimizer)\n",
        "    test(test_dataloader, model_cpu, loss_fn)\n",
        "end = timer()\n",
        "\n",
        "print(\"Done! elapsed time {0}\".format(end-start))"
      ],
      "execution_count": 82,
      "outputs": [
        {
          "output_type": "stream",
          "name": "stdout",
          "text": [
            "Epoch 1\n",
            "-------------------------------\n",
            "loss: 2.294869  [    0/60000]\n",
            "loss: 2.306541  [ 3200/60000]\n",
            "loss: 2.293825  [ 6400/60000]\n",
            "loss: 2.285045  [ 9600/60000]\n",
            "loss: 2.300608  [12800/60000]\n",
            "loss: 2.290275  [16000/60000]\n",
            "loss: 2.261045  [19200/60000]\n",
            "loss: 2.265376  [22400/60000]\n",
            "loss: 2.257696  [25600/60000]\n",
            "loss: 2.226776  [28800/60000]\n",
            "loss: 2.251732  [32000/60000]\n",
            "loss: 2.265174  [35200/60000]\n",
            "loss: 2.233833  [38400/60000]\n",
            "loss: 2.228143  [41600/60000]\n",
            "loss: 2.249418  [44800/60000]\n",
            "loss: 2.213856  [48000/60000]\n",
            "loss: 2.196316  [51200/60000]\n",
            "loss: 2.201349  [54400/60000]\n",
            "loss: 2.207278  [57600/60000]\n",
            "Test Error: \n",
            " Accuracy: 61.1%, Avg loss: 2.190854 \n",
            "\n",
            "Epoch 2\n",
            "-------------------------------\n",
            "loss: 2.195890  [    0/60000]\n",
            "loss: 2.211551  [ 3200/60000]\n",
            "loss: 2.172985  [ 6400/60000]\n",
            "loss: 2.181741  [ 9600/60000]\n",
            "loss: 2.210437  [12800/60000]\n",
            "loss: 2.191419  [16000/60000]\n",
            "loss: 2.084064  [19200/60000]\n",
            "loss: 2.111748  [22400/60000]\n",
            "loss: 2.085056  [25600/60000]\n",
            "loss: 1.994183  [28800/60000]\n",
            "loss: 2.071450  [32000/60000]\n",
            "loss: 2.099122  [35200/60000]\n",
            "loss: 2.010553  [38400/60000]\n",
            "loss: 1.986056  [41600/60000]\n",
            "loss: 2.061740  [44800/60000]\n",
            "loss: 1.950589  [48000/60000]\n",
            "loss: 1.893967  [51200/60000]\n",
            "loss: 1.921204  [54400/60000]\n",
            "loss: 1.932159  [57600/60000]\n",
            "Test Error: \n",
            " Accuracy: 70.5%, Avg loss: 1.885256 \n",
            "\n",
            "Epoch 3\n",
            "-------------------------------\n",
            "loss: 1.914710  [    0/60000]\n",
            "loss: 1.934989  [ 3200/60000]\n",
            "loss: 1.811114  [ 6400/60000]\n",
            "loss: 1.860752  [ 9600/60000]\n",
            "loss: 1.922721  [12800/60000]\n",
            "loss: 1.900125  [16000/60000]\n",
            "loss: 1.615925  [19200/60000]\n",
            "loss: 1.664678  [22400/60000]\n",
            "loss: 1.594285  [25600/60000]\n",
            "loss: 1.411042  [28800/60000]\n",
            "loss: 1.573683  [32000/60000]\n",
            "loss: 1.622795  [35200/60000]\n",
            "loss: 1.483398  [38400/60000]\n",
            "loss: 1.442348  [41600/60000]\n",
            "loss: 1.551984  [44800/60000]\n",
            "loss: 1.357871  [48000/60000]\n",
            "loss: 1.274554  [51200/60000]\n",
            "loss: 1.292035  [54400/60000]\n",
            "loss: 1.315703  [57600/60000]\n",
            "Test Error: \n",
            " Accuracy: 77.0%, Avg loss: 1.267502 \n",
            "\n",
            "Epoch 4\n",
            "-------------------------------\n",
            "loss: 1.326736  [    0/60000]\n",
            "loss: 1.357249  [ 3200/60000]\n",
            "loss: 1.165346  [ 6400/60000]\n",
            "loss: 1.206058  [ 9600/60000]\n",
            "loss: 1.290468  [12800/60000]\n",
            "loss: 1.386501  [16000/60000]\n",
            "loss: 1.004609  [19200/60000]\n",
            "loss: 1.057876  [22400/60000]\n",
            "loss: 0.951904  [25600/60000]\n",
            "loss: 0.807654  [28800/60000]\n",
            "loss: 0.979654  [32000/60000]\n",
            "loss: 1.017780  [35200/60000]\n",
            "loss: 0.951304  [38400/60000]\n",
            "loss: 0.959828  [41600/60000]\n",
            "loss: 0.980334  [44800/60000]\n",
            "loss: 0.813252  [48000/60000]\n",
            "loss: 0.818385  [51200/60000]\n",
            "loss: 0.770643  [54400/60000]\n",
            "loss: 0.833146  [57600/60000]\n",
            "Test Error: \n",
            " Accuracy: 81.8%, Avg loss: 0.833968 \n",
            "\n",
            "Epoch 5\n",
            "-------------------------------\n",
            "loss: 0.932724  [    0/60000]\n",
            "loss: 0.932909  [ 3200/60000]\n",
            "loss: 0.796239  [ 6400/60000]\n",
            "loss: 0.792136  [ 9600/60000]\n",
            "loss: 0.845439  [12800/60000]\n",
            "loss: 1.051707  [16000/60000]\n",
            "loss: 0.685143  [19200/60000]\n",
            "loss: 0.726310  [22400/60000]\n",
            "loss: 0.640204  [25600/60000]\n",
            "loss: 0.530275  [28800/60000]\n",
            "loss: 0.684333  [32000/60000]\n",
            "loss: 0.696534  [35200/60000]\n",
            "loss: 0.683423  [38400/60000]\n",
            "loss: 0.709814  [41600/60000]\n",
            "loss: 0.686002  [44800/60000]\n",
            "loss: 0.573640  [48000/60000]\n",
            "loss: 0.618476  [51200/60000]\n",
            "loss: 0.532089  [54400/60000]\n",
            "loss: 0.621185  [57600/60000]\n",
            "Test Error: \n",
            " Accuracy: 84.9%, Avg loss: 0.637421 \n",
            "\n",
            "Done! elapsed time 53.63772067799982\n"
          ]
        }
      ]
    },
    {
      "cell_type": "code",
      "metadata": {
        "id": "LnQsMECcLLOn"
      },
      "source": [
        ""
      ],
      "execution_count": null,
      "outputs": []
    }
  ]
}